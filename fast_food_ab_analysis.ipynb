{
 "cells": [
  {
   "cell_type": "markdown",
   "metadata": {},
   "source": [
    "# Fast Food Marketing Campaign A/B Test Analysis"
   ]
  },
  {
   "cell_type": "markdown",
   "metadata": {},
   "source": [
    "## 1. Goal of the analysis"
   ]
  },
  {
   "cell_type": "markdown",
   "metadata": {},
   "source": [
    "1. **Effectiveness of Marketing Strategies:**\n",
    "- **Hypothesis:** Promotion 1 and Promotion 3 are more effective in sales compared to Promotion 2, as suggested by higher median and mean sales values.\n",
    "\n",
    "2. **Statistical Significance of Sales Differences:**\n",
    "- **Hypothesis:** Differences in sales between promotions are statistically significant, allowing us to identify the most effective promotion.\n",
    "\n",
    "3. **Market-Specific Variations:**\n",
    "- **Hypothesis:** Variations in sales by promotion are consistent across markets, and market characteristics do not significantly alter the promotion effectiveness.\n",
    "\n",
    "4. **Sample Ratio Consistency:**\n",
    "- **Hypothesis:** There is no sample ratio mismatch (SRM) in the dataset, ensuring that statistical tests yield reliable results.\n",
    "\n",
    "5. **Distributional and Variance Assumptions:**\n",
    "- **Hypothesis:** Sales data for each promotion meet assumptions for normality and variance equality, allowing for valid statistical comparisons.\n"
   ]
  },
  {
   "cell_type": "markdown",
   "metadata": {},
   "source": [
    "### 1.1 Context and Description:\n",
    "\n",
    "In this project, we aim to evaluate the effectiveness of three different marketing strategies to promote a new item at a fast-food chain. Each promotion was introduced at locations in randomly selected markets, and weekly sales data for the new item were recorded over the first four weeks. By comparing the sales data for each promotion, we seek to determine which marketing campaign has the greatest impact on sales and thus choose the most effective promotion.\n",
    "\n",
    "By addressing these aspects, the analysis aims to provide actionable insights for the **marketing and strategy teams** of the fast-food chain to determine the most effective promotion strategy. These findings will guide decision-making regarding future campaigns to maximize revenue."
   ]
  },
  {
   "cell_type": "markdown",
   "metadata": {},
   "source": [
    "### 1.2. Target Metric:\n",
    "\n",
    "The target metric for this A/B test is **mean sales** of the new item, measured in thousands of dollars. This metric shows how well each promotion drives sales, helping us identify which promotion is most effective in boosting revenue for the new product. The promotion that will have the highest average sales over the four-week period is considered the most successful."
   ]
  },
  {
   "cell_type": "markdown",
   "metadata": {},
   "source": [
    "### 1.3 First, we import the main libraries and create a consistent visual colormap we will use for the analysis."
   ]
  },
  {
   "cell_type": "code",
   "execution_count": 1,
   "metadata": {},
   "outputs": [],
   "source": [
    "import matplotlib.pyplot as plt\n",
    "import pandas as pd\n",
    "import seaborn as sns\n",
    "from scipy.stats import f_oneway, levene\n",
    "from statsmodels.stats.multicomp import pairwise_tukeyhsd\n",
    "\n",
    "from utilities import (find_missing_values, find_outliers, calculate_summary,\n",
    "                       plot_sales_data, plot_market_sales_data,\n",
    "                       plot_sales_distribution, get_variant_summary,\n",
    "                       get_srm, plot_promotion_histograms)"
   ]
  },
  {
   "cell_type": "code",
   "execution_count": 2,
   "metadata": {},
   "outputs": [],
   "source": [
    "pd.set_option('display.max_colwidth', None)\n",
    "plt.rcParams['figure.figsize'] = (10, 6)\n",
    "colors=[\"#ca0020\", \"#f4a582\", \"#92c5de\", \"#0571b0\"]\n",
    "sns.set_theme(style=\"white\")\n",
    "sns.set_palette(sns.color_palette(colors))"
   ]
  },
  {
   "cell_type": "markdown",
   "metadata": {},
   "source": [
    "## 2. Cleaning and inspecting data"
   ]
  },
  {
   "cell_type": "markdown",
   "metadata": {},
   "source": [
    "### 2.1 We import the dataset and take a look at it"
   ]
  },
  {
   "cell_type": "code",
   "execution_count": 3,
   "metadata": {},
   "outputs": [
    {
     "data": {
      "text/html": [
       "<div>\n",
       "<style scoped>\n",
       "    .dataframe tbody tr th:only-of-type {\n",
       "        vertical-align: middle;\n",
       "    }\n",
       "\n",
       "    .dataframe tbody tr th {\n",
       "        vertical-align: top;\n",
       "    }\n",
       "\n",
       "    .dataframe thead th {\n",
       "        text-align: right;\n",
       "    }\n",
       "</style>\n",
       "<table border=\"1\" class=\"dataframe\">\n",
       "  <thead>\n",
       "    <tr style=\"text-align: right;\">\n",
       "      <th></th>\n",
       "      <th>MarketID</th>\n",
       "      <th>MarketSize</th>\n",
       "      <th>LocationID</th>\n",
       "      <th>AgeOfStore</th>\n",
       "      <th>Promotion</th>\n",
       "      <th>week</th>\n",
       "      <th>SalesInThousands</th>\n",
       "    </tr>\n",
       "  </thead>\n",
       "  <tbody>\n",
       "    <tr>\n",
       "      <th>0</th>\n",
       "      <td>1</td>\n",
       "      <td>Medium</td>\n",
       "      <td>1</td>\n",
       "      <td>4</td>\n",
       "      <td>3</td>\n",
       "      <td>1</td>\n",
       "      <td>33.73</td>\n",
       "    </tr>\n",
       "    <tr>\n",
       "      <th>1</th>\n",
       "      <td>1</td>\n",
       "      <td>Medium</td>\n",
       "      <td>1</td>\n",
       "      <td>4</td>\n",
       "      <td>3</td>\n",
       "      <td>2</td>\n",
       "      <td>35.67</td>\n",
       "    </tr>\n",
       "    <tr>\n",
       "      <th>2</th>\n",
       "      <td>1</td>\n",
       "      <td>Medium</td>\n",
       "      <td>1</td>\n",
       "      <td>4</td>\n",
       "      <td>3</td>\n",
       "      <td>3</td>\n",
       "      <td>29.03</td>\n",
       "    </tr>\n",
       "    <tr>\n",
       "      <th>3</th>\n",
       "      <td>1</td>\n",
       "      <td>Medium</td>\n",
       "      <td>1</td>\n",
       "      <td>4</td>\n",
       "      <td>3</td>\n",
       "      <td>4</td>\n",
       "      <td>39.25</td>\n",
       "    </tr>\n",
       "    <tr>\n",
       "      <th>4</th>\n",
       "      <td>1</td>\n",
       "      <td>Medium</td>\n",
       "      <td>2</td>\n",
       "      <td>5</td>\n",
       "      <td>2</td>\n",
       "      <td>1</td>\n",
       "      <td>27.81</td>\n",
       "    </tr>\n",
       "  </tbody>\n",
       "</table>\n",
       "</div>"
      ],
      "text/plain": [
       "   MarketID MarketSize  LocationID  AgeOfStore  Promotion  week  \\\n",
       "0         1     Medium           1           4          3     1   \n",
       "1         1     Medium           1           4          3     2   \n",
       "2         1     Medium           1           4          3     3   \n",
       "3         1     Medium           1           4          3     4   \n",
       "4         1     Medium           2           5          2     1   \n",
       "\n",
       "   SalesInThousands  \n",
       "0             33.73  \n",
       "1             35.67  \n",
       "2             29.03  \n",
       "3             39.25  \n",
       "4             27.81  "
      ]
     },
     "execution_count": 3,
     "metadata": {},
     "output_type": "execute_result"
    }
   ],
   "source": [
    "df = pd.read_csv(\"WA_Marketing-Campaign.csv\")\n",
    "df.head()"
   ]
  },
  {
   "cell_type": "markdown",
   "metadata": {},
   "source": [
    "### 2.2 We check for any missing values"
   ]
  },
  {
   "cell_type": "code",
   "execution_count": 4,
   "metadata": {},
   "outputs": [
    {
     "data": {
      "text/html": [
       "<div>\n",
       "<style scoped>\n",
       "    .dataframe tbody tr th:only-of-type {\n",
       "        vertical-align: middle;\n",
       "    }\n",
       "\n",
       "    .dataframe tbody tr th {\n",
       "        vertical-align: top;\n",
       "    }\n",
       "\n",
       "    .dataframe thead th {\n",
       "        text-align: right;\n",
       "    }\n",
       "</style>\n",
       "<table border=\"1\" class=\"dataframe\">\n",
       "  <thead>\n",
       "    <tr style=\"text-align: right;\">\n",
       "      <th></th>\n",
       "      <th>Zeroes</th>\n",
       "      <th>Empty Strings</th>\n",
       "      <th>NaN</th>\n",
       "    </tr>\n",
       "  </thead>\n",
       "  <tbody>\n",
       "    <tr>\n",
       "      <th>MarketID</th>\n",
       "      <td>0</td>\n",
       "      <td>0</td>\n",
       "      <td>0</td>\n",
       "    </tr>\n",
       "    <tr>\n",
       "      <th>MarketSize</th>\n",
       "      <td>0</td>\n",
       "      <td>0</td>\n",
       "      <td>0</td>\n",
       "    </tr>\n",
       "    <tr>\n",
       "      <th>LocationID</th>\n",
       "      <td>0</td>\n",
       "      <td>0</td>\n",
       "      <td>0</td>\n",
       "    </tr>\n",
       "    <tr>\n",
       "      <th>AgeOfStore</th>\n",
       "      <td>0</td>\n",
       "      <td>0</td>\n",
       "      <td>0</td>\n",
       "    </tr>\n",
       "    <tr>\n",
       "      <th>Promotion</th>\n",
       "      <td>0</td>\n",
       "      <td>0</td>\n",
       "      <td>0</td>\n",
       "    </tr>\n",
       "    <tr>\n",
       "      <th>week</th>\n",
       "      <td>0</td>\n",
       "      <td>0</td>\n",
       "      <td>0</td>\n",
       "    </tr>\n",
       "    <tr>\n",
       "      <th>SalesInThousands</th>\n",
       "      <td>0</td>\n",
       "      <td>0</td>\n",
       "      <td>0</td>\n",
       "    </tr>\n",
       "  </tbody>\n",
       "</table>\n",
       "</div>"
      ],
      "text/plain": [
       "                  Zeroes  Empty Strings  NaN\n",
       "MarketID               0              0    0\n",
       "MarketSize             0              0    0\n",
       "LocationID             0              0    0\n",
       "AgeOfStore             0              0    0\n",
       "Promotion              0              0    0\n",
       "week                   0              0    0\n",
       "SalesInThousands       0              0    0"
      ]
     },
     "execution_count": 4,
     "metadata": {},
     "output_type": "execute_result"
    }
   ],
   "source": [
    "find_missing_values(df)"
   ]
  },
  {
   "cell_type": "markdown",
   "metadata": {},
   "source": [
    "Seems like there are no missing values - great!"
   ]
  },
  {
   "cell_type": "markdown",
   "metadata": {},
   "source": [
    "### 2.3 We check for any duplicate entries"
   ]
  },
  {
   "cell_type": "code",
   "execution_count": 5,
   "metadata": {},
   "outputs": [
    {
     "name": "stdout",
     "output_type": "stream",
     "text": [
      "There are 0 duplicate rows.\n"
     ]
    }
   ],
   "source": [
    "print(f\"There are {df.duplicated().sum()} duplicate rows.\")"
   ]
  },
  {
   "cell_type": "markdown",
   "metadata": {},
   "source": [
    "### 2.4 We check the datatypes"
   ]
  },
  {
   "cell_type": "code",
   "execution_count": 6,
   "metadata": {},
   "outputs": [
    {
     "data": {
      "text/plain": [
       "MarketID              int64\n",
       "MarketSize           object\n",
       "LocationID            int64\n",
       "AgeOfStore            int64\n",
       "Promotion             int64\n",
       "week                  int64\n",
       "SalesInThousands    float64\n",
       "dtype: object"
      ]
     },
     "execution_count": 6,
     "metadata": {},
     "output_type": "execute_result"
    }
   ],
   "source": [
    "df.dtypes"
   ]
  },
  {
   "cell_type": "code",
   "execution_count": 7,
   "metadata": {},
   "outputs": [],
   "source": [
    "df = df.astype({\"MarketSize\": \"category\", \"Promotion\": \"category\"})"
   ]
  },
  {
   "cell_type": "markdown",
   "metadata": {},
   "source": [
    "Since MarketSize represents distinct categories, we will convert it to categorical data. As each number in promotion represents a distinct promotion, we will also convert it to categorical data."
   ]
  },
  {
   "cell_type": "markdown",
   "metadata": {},
   "source": [
    "### 2.5 Let's check for any outliers in numerical fields using the IQR method"
   ]
  },
  {
   "cell_type": "code",
   "execution_count": 8,
   "metadata": {},
   "outputs": [
    {
     "name": "stdout",
     "output_type": "stream",
     "text": [
      "No outliers in 'MarketID'\n",
      "No outliers in 'LocationID'\n",
      "Outliers in 'AgeOfStore':\n",
      "192    28\n",
      "193    28\n",
      "194    28\n",
      "195    28\n",
      "204    25\n",
      "205    25\n",
      "206    25\n",
      "207    25\n",
      "392    27\n",
      "393    27\n",
      "394    27\n",
      "395    27\n",
      "Name: AgeOfStore, dtype: int64\n",
      "\n",
      "No outliers in 'week'\n",
      "Outliers in 'SalesInThousands':\n",
      "80     88.73\n",
      "83     94.17\n",
      "84     89.70\n",
      "88     87.43\n",
      "90     88.12\n",
      "93     90.30\n",
      "95     89.77\n",
      "99     88.91\n",
      "100    87.70\n",
      "103    94.21\n",
      "104    96.48\n",
      "106    91.98\n",
      "108    93.71\n",
      "109    96.01\n",
      "110    93.03\n",
      "111    97.61\n",
      "113    88.07\n",
      "114    94.43\n",
      "115    89.44\n",
      "116    88.64\n",
      "121    87.90\n",
      "128    91.60\n",
      "130    93.86\n",
      "136    94.89\n",
      "138    93.63\n",
      "140    91.61\n",
      "144    99.65\n",
      "145    88.64\n",
      "147    89.25\n",
      "153    89.32\n",
      "154    99.12\n",
      "160    93.32\n",
      "163    91.29\n",
      "Name: SalesInThousands, dtype: float64\n",
      "\n",
      "Outliers:\n",
      "     MarketID  LocationID  AgeOfStore  week  SalesInThousands\n",
      "192         4         308          28     1             51.87\n",
      "193         4         308          28     2             58.01\n",
      "194         4         308          28     3             47.93\n",
      "195         4         308          28     4             51.33\n",
      "204         5         402          25     1             40.40\n",
      "205         5         402          25     2             50.28\n",
      "206         5         402          25     3             52.72\n",
      "207         5         402          25     4             38.30\n",
      "392         8         704          27     1             56.64\n",
      "393         8         704          27     2             46.06\n",
      "394         8         704          27     3             55.46\n",
      "395         8         704          27     4             51.41\n",
      "80          3         202           8     1             88.73\n",
      "83          3         202           8     4             94.17\n",
      "84          3         203          12     1             89.70\n",
      "88          3         204           1     1             87.43\n",
      "90          3         204           1     3             88.12\n",
      "93          3         205          19     2             90.30\n",
      "95          3         205          19     4             89.77\n",
      "99          3         206          11     4             88.91\n",
      "100         3         207           1     1             87.70\n",
      "103         3         207           1     4             94.21\n",
      "104         3         208           1     1             96.48\n",
      "106         3         208           1     3             91.98\n",
      "108         3         209           1     1             93.71\n",
      "109         3         209           1     2             96.01\n",
      "110         3         209           1     3             93.03\n",
      "111         3         209           1     4             97.61\n",
      "113         3         210          19     2             88.07\n",
      "114         3         210          19     3             94.43\n",
      "115         3         210          19     4             89.44\n",
      "116         3         211          13     1             88.64\n",
      "121         3         212           3     2             87.90\n",
      "128         3         214           5     1             91.60\n",
      "130         3         214           5     3             93.86\n",
      "136         3         216           4     1             94.89\n",
      "138         3         216           4     3             93.63\n",
      "140         3         217           5     1             91.61\n",
      "144         3         218           2     1             99.65\n",
      "145         3         218           2     2             88.64\n",
      "147         3         218           2     4             89.25\n",
      "153         3         220           3     2             89.32\n",
      "154         3         220           3     3             99.12\n",
      "160         3         222           6     1             93.32\n",
      "163         3         222           6     4             91.29\n"
     ]
    }
   ],
   "source": [
    "numeric = [feature for feature in df if df[feature].dtype in [\"int64\",\"float64\"]]\n",
    "outliers = find_outliers(df,numeric)\n",
    "print(f\"Outliers:\\n{outliers}\")"
   ]
  },
  {
   "cell_type": "code",
   "execution_count": 9,
   "metadata": {},
   "outputs": [
    {
     "data": {
      "text/html": [
       "<div>\n",
       "<style scoped>\n",
       "    .dataframe tbody tr th:only-of-type {\n",
       "        vertical-align: middle;\n",
       "    }\n",
       "\n",
       "    .dataframe tbody tr th {\n",
       "        vertical-align: top;\n",
       "    }\n",
       "\n",
       "    .dataframe thead th {\n",
       "        text-align: right;\n",
       "    }\n",
       "</style>\n",
       "<table border=\"1\" class=\"dataframe\">\n",
       "  <thead>\n",
       "    <tr style=\"text-align: right;\">\n",
       "      <th></th>\n",
       "      <th>MarketID</th>\n",
       "      <th>LocationID</th>\n",
       "      <th>AgeOfStore</th>\n",
       "      <th>week</th>\n",
       "      <th>SalesInThousands</th>\n",
       "    </tr>\n",
       "  </thead>\n",
       "  <tbody>\n",
       "    <tr>\n",
       "      <th>count</th>\n",
       "      <td>548.000000</td>\n",
       "      <td>548.000000</td>\n",
       "      <td>548.000000</td>\n",
       "      <td>548.000000</td>\n",
       "      <td>548.000000</td>\n",
       "    </tr>\n",
       "    <tr>\n",
       "      <th>mean</th>\n",
       "      <td>5.715328</td>\n",
       "      <td>479.656934</td>\n",
       "      <td>8.503650</td>\n",
       "      <td>2.500000</td>\n",
       "      <td>53.466204</td>\n",
       "    </tr>\n",
       "    <tr>\n",
       "      <th>std</th>\n",
       "      <td>2.877001</td>\n",
       "      <td>287.973679</td>\n",
       "      <td>6.638345</td>\n",
       "      <td>1.119055</td>\n",
       "      <td>16.755216</td>\n",
       "    </tr>\n",
       "    <tr>\n",
       "      <th>min</th>\n",
       "      <td>1.000000</td>\n",
       "      <td>1.000000</td>\n",
       "      <td>1.000000</td>\n",
       "      <td>1.000000</td>\n",
       "      <td>17.340000</td>\n",
       "    </tr>\n",
       "    <tr>\n",
       "      <th>25%</th>\n",
       "      <td>3.000000</td>\n",
       "      <td>216.000000</td>\n",
       "      <td>4.000000</td>\n",
       "      <td>1.750000</td>\n",
       "      <td>42.545000</td>\n",
       "    </tr>\n",
       "    <tr>\n",
       "      <th>50%</th>\n",
       "      <td>6.000000</td>\n",
       "      <td>504.000000</td>\n",
       "      <td>7.000000</td>\n",
       "      <td>2.500000</td>\n",
       "      <td>50.200000</td>\n",
       "    </tr>\n",
       "    <tr>\n",
       "      <th>75%</th>\n",
       "      <td>8.000000</td>\n",
       "      <td>708.000000</td>\n",
       "      <td>12.000000</td>\n",
       "      <td>3.250000</td>\n",
       "      <td>60.477500</td>\n",
       "    </tr>\n",
       "    <tr>\n",
       "      <th>max</th>\n",
       "      <td>10.000000</td>\n",
       "      <td>920.000000</td>\n",
       "      <td>28.000000</td>\n",
       "      <td>4.000000</td>\n",
       "      <td>99.650000</td>\n",
       "    </tr>\n",
       "  </tbody>\n",
       "</table>\n",
       "</div>"
      ],
      "text/plain": [
       "         MarketID  LocationID  AgeOfStore        week  SalesInThousands\n",
       "count  548.000000  548.000000  548.000000  548.000000        548.000000\n",
       "mean     5.715328  479.656934    8.503650    2.500000         53.466204\n",
       "std      2.877001  287.973679    6.638345    1.119055         16.755216\n",
       "min      1.000000    1.000000    1.000000    1.000000         17.340000\n",
       "25%      3.000000  216.000000    4.000000    1.750000         42.545000\n",
       "50%      6.000000  504.000000    7.000000    2.500000         50.200000\n",
       "75%      8.000000  708.000000   12.000000    3.250000         60.477500\n",
       "max     10.000000  920.000000   28.000000    4.000000         99.650000"
      ]
     },
     "execution_count": 9,
     "metadata": {},
     "output_type": "execute_result"
    }
   ],
   "source": [
    "df.describe()"
   ]
  },
  {
   "cell_type": "markdown",
   "metadata": {},
   "source": [
    "We have some outliers in store age - seems like most stores in our dataset are relatively new, therefore some stores that were open for nearly 3 decades are detected as outliers. As for sales, it seems like sales above ~87k are considered outliers, since 75% of our sales data falls under 60.5k. This data is fine and we will not do anything with the outliers."
   ]
  },
  {
   "cell_type": "markdown",
   "metadata": {},
   "source": [
    "### 2.6 What is the locations distribution between markets?"
   ]
  },
  {
   "cell_type": "code",
   "execution_count": 10,
   "metadata": {},
   "outputs": [
    {
     "name": "stdout",
     "output_type": "stream",
     "text": [
      "MarketID\n",
      "3     88\n",
      "10    80\n",
      "7     60\n",
      "5     60\n",
      "6     60\n",
      "1     52\n",
      "8     48\n",
      "9     40\n",
      "4     36\n",
      "2     24\n",
      "Name: count, dtype: int64\n"
     ]
    }
   ],
   "source": [
    "print(df['MarketID'].value_counts())"
   ]
  },
  {
   "cell_type": "markdown",
   "metadata": {},
   "source": [
    "We can see a wide range of distribution between markets. If needed, we can use this information later on to stratify our data and try to discover any more findings."
   ]
  },
  {
   "cell_type": "markdown",
   "metadata": {},
   "source": [
    "### 2.7 Let's look at the sales distribution by promotion"
   ]
  },
  {
   "cell_type": "code",
   "execution_count": 11,
   "metadata": {},
   "outputs": [
    {
     "data": {
      "image/png": "[encoded data removed]",
      "text/plain": [
       "<Figure size 1000x600 with 1 Axes>"
      ]
     },
     "metadata": {},
     "output_type": "display_data"
    }
   ],
   "source": [
    "plot_sales_distribution(df)"
   ]
  },
  {
   "cell_type": "markdown",
   "metadata": {},
   "source": [
    "Initially, we can see that promotions 1 and 3 have a significantly higher median than promotion 2. We also see the beforementioned outliers in higher sales. To determine whether there is statistically significant difference between these promotions, and to understand these numbers in our target metric's mean values, we will have to perform some statistical calculations."
   ]
  },
  {
   "cell_type": "markdown",
   "metadata": {},
   "source": [
    "## 3. Calculations"
   ]
  },
  {
   "cell_type": "markdown",
   "metadata": {},
   "source": [
    "### 3.1 What is our sample size and what are the promotion variation proportions?"
   ]
  },
  {
   "cell_type": "code",
   "execution_count": 12,
   "metadata": {},
   "outputs": [
    {
     "name": "stdout",
     "output_type": "stream",
     "text": [
      "Total Sample Size: 548\n",
      "\n"
     ]
    },
    {
     "data": {
      "text/html": [
       "<div>\n",
       "<style scoped>\n",
       "    .dataframe tbody tr th:only-of-type {\n",
       "        vertical-align: middle;\n",
       "    }\n",
       "\n",
       "    .dataframe tbody tr th {\n",
       "        vertical-align: top;\n",
       "    }\n",
       "\n",
       "    .dataframe thead th {\n",
       "        text-align: right;\n",
       "    }\n",
       "</style>\n",
       "<table border=\"1\" class=\"dataframe\">\n",
       "  <thead>\n",
       "    <tr style=\"text-align: right;\">\n",
       "      <th></th>\n",
       "      <th>Sample Size</th>\n",
       "      <th>Proportion</th>\n",
       "    </tr>\n",
       "    <tr>\n",
       "      <th>Promotion</th>\n",
       "      <th></th>\n",
       "      <th></th>\n",
       "    </tr>\n",
       "  </thead>\n",
       "  <tbody>\n",
       "    <tr>\n",
       "      <th>1</th>\n",
       "      <td>172</td>\n",
       "      <td>31.386861</td>\n",
       "    </tr>\n",
       "    <tr>\n",
       "      <th>2</th>\n",
       "      <td>188</td>\n",
       "      <td>34.306569</td>\n",
       "    </tr>\n",
       "    <tr>\n",
       "      <th>3</th>\n",
       "      <td>188</td>\n",
       "      <td>34.306569</td>\n",
       "    </tr>\n",
       "  </tbody>\n",
       "</table>\n",
       "</div>"
      ],
      "text/plain": [
       "           Sample Size  Proportion\n",
       "Promotion                         \n",
       "1                  172   31.386861\n",
       "2                  188   34.306569\n",
       "3                  188   34.306569"
      ]
     },
     "execution_count": 12,
     "metadata": {},
     "output_type": "execute_result"
    }
   ],
   "source": [
    "total_samples, variant_counts, summary = get_variant_summary(df,\"Promotion\")\n",
    "summary"
   ]
  },
  {
   "cell_type": "markdown",
   "metadata": {},
   "source": [
    "We can see a slight difference in promotion sample sizes (promotion 1 has smaller sample than promotions 2 and 3). To check whether this discrepancy is due to randomness or a bug, we will use the **Chi-Square test**."
   ]
  },
  {
   "cell_type": "markdown",
   "metadata": {},
   "source": [
    "### 3.2 Testing for SRM (sample ratio mismatch) using the **Chi-Square test** (using α level of 5%)"
   ]
  },
  {
   "cell_type": "code",
   "execution_count": 13,
   "metadata": {},
   "outputs": [
    {
     "name": "stdout",
     "output_type": "stream",
     "text": [
      "Chi-Square statistic: 0.93\n",
      "P-value: 0.6268\n",
      "The p-value is greater than 0.05, indicating no significant sample ratio mismatch.\n"
     ]
    }
   ],
   "source": [
    "get_srm(total_samples, variant_counts)"
   ]
  },
  {
   "cell_type": "markdown",
   "metadata": {},
   "source": [
    "Since there is no significant sample ratio mismatch, we can proceed with analyzing the effect of the marketing promotion on sales."
   ]
  },
  {
   "cell_type": "markdown",
   "metadata": {},
   "source": [
    "### 3.3 Performing statistical tests on promotion groups"
   ]
  },
  {
   "cell_type": "markdown",
   "metadata": {},
   "source": [
    "**H0 (Null Hypothesis)**: μ1 = μ2 = μ3 (There is no statistically significant difference in the mean sales across the promotions)\n",
    "\n",
    "**Ha (Alternative Hypothesis)**: At least one promotion has a statistically significantly different mean in sales.\n",
    "\n",
    "**α = 0.05 (5%)**"
   ]
  },
  {
   "cell_type": "markdown",
   "metadata": {},
   "source": [
    "### 3.4 Checking assumptions:\n",
    "- We imply that observations are independent of one another (due to the nature of our dataset)\n",
    "- Data normality - data in each group should be normally distributed (less critical with a large enough sample size)\n",
    "- Variances in each group should be roughly equal"
   ]
  },
  {
   "cell_type": "markdown",
   "metadata": {},
   "source": [
    "#### 3.4.1 Checking for data normality"
   ]
  },
  {
   "cell_type": "code",
   "execution_count": 14,
   "metadata": {},
   "outputs": [
    {
     "data": {
      "image/png": "[encoded data removed]",
      "text/plain": [
       "<Figure size 1500x500 with 3 Axes>"
      ]
     },
     "metadata": {},
     "output_type": "display_data"
    }
   ],
   "source": [
    "plot_promotion_histograms(df)"
   ]
  },
  {
   "cell_type": "markdown",
   "metadata": {},
   "source": [
    "Our data does not seem to follow a fully normal distribution. Each promotion follows a slightly bimodal distribution with some skewness to the right. However, we can rely on **Central Limit Theorem** since our sample size for each promotion is large enough (n>30), therefore our assumption still holds."
   ]
  },
  {
   "cell_type": "markdown",
   "metadata": {},
   "source": [
    "#### 3.4.2 To check whether the variance between promotions is equal (H0 = population variances are equal), we will use **Levene's test**:"
   ]
  },
  {
   "cell_type": "code",
   "execution_count": 15,
   "metadata": {},
   "outputs": [
    {
     "name": "stdout",
     "output_type": "stream",
     "text": [
      "Levene's Test: F-statistic = 1.2697, p-value = 0.2818\n"
     ]
    }
   ],
   "source": [
    "sales_promotion_1 = df[df[\"Promotion\"] == 1][\"SalesInThousands\"]\n",
    "sales_promotion_2 = df[df[\"Promotion\"] == 2][\"SalesInThousands\"]\n",
    "sales_promotion_3 = df[df[\"Promotion\"] == 3][\"SalesInThousands\"]\n",
    "\n",
    "levene_stat, p_value = levene(sales_promotion_1, sales_promotion_2, sales_promotion_3)\n",
    "print(f\"Levene's Test: F-statistic = {levene_stat:.4f}, p-value = {p_value:.4f}\")"
   ]
  },
  {
   "cell_type": "markdown",
   "metadata": {},
   "source": [
    "Using Levene's test (used to assess the equality of variances for a variable calculated for two or more groups) we fail to reject the null hypothesis that the variances of promotions are equal, since the **p-value** is above our alpha of 0.05.\n",
    "\n",
    "Now, all of our assumptions were met and we can continue. We will use **ANOVA** test, which is used to analyze the difference between the means of more than two groups."
   ]
  },
  {
   "cell_type": "markdown",
   "metadata": {},
   "source": [
    "### 3.5 Using **ANOVA (Analysis of Variance) test** we calculate the p-value for our hypothesis"
   ]
  },
  {
   "cell_type": "code",
   "execution_count": 16,
   "metadata": {},
   "outputs": [
    {
     "name": "stdout",
     "output_type": "stream",
     "text": [
      "F-statistic: 21.95\n",
      "P-value: 0.0000\n",
      "The p-value is less than 0.05, we reject the null hypothesis, indicating significant differences in mean sales across promotions.\n"
     ]
    }
   ],
   "source": [
    "alpha = 0.05\n",
    "\n",
    "f_stat, p_value = f_oneway(sales_promotion_1, sales_promotion_2, sales_promotion_3)\n",
    "print(f\"F-statistic: {f_stat:.2f}\")\n",
    "print(f\"P-value: {p_value:.4f}\")\n",
    "\n",
    "if p_value < alpha:\n",
    "    print(f\"The p-value is less than {alpha}, we reject the null hypothesis, indicating significant differences in mean sales across promotions.\")\n",
    "else:\n",
    "    print(f\"The p-value is greater than {alpha}, we fail to reject the null hypothesis, indicating no significant differences in mean sales across promotions.\")"
   ]
  },
  {
   "cell_type": "markdown",
   "metadata": {},
   "source": [
    "Since there is a significant difference in mean sales across promotions, we will need to do post-hoc testing to determine which promotions differ from one another. For that, we can use **Tukey's HSD test**, which works well with multiple treatment comparisons."
   ]
  },
  {
   "cell_type": "markdown",
   "metadata": {},
   "source": [
    "### 3.6 Using **TukeyHSD (Tukey’s Honestly-Significant Difference) test** to determine promotion differences"
   ]
  },
  {
   "cell_type": "code",
   "execution_count": 17,
   "metadata": {},
   "outputs": [
    {
     "name": "stdout",
     "output_type": "stream",
     "text": [
      " Multiple Comparison of Means - Tukey HSD, FWER=0.05 \n",
      "=====================================================\n",
      "group1 group2 meandiff p-adj   lower    upper  reject\n",
      "-----------------------------------------------------\n",
      "     1      2 -10.7696    0.0 -14.7738 -6.7654   True\n",
      "     1      3  -2.7345 0.2444  -6.7388  1.2697  False\n",
      "     2      3   8.0351    0.0   4.1208 11.9493   True\n",
      "-----------------------------------------------------\n"
     ]
    }
   ],
   "source": [
    "tukey_results = pairwise_tukeyhsd(df[\"SalesInThousands\"], df[\"Promotion\"], alpha)\n",
    "print(tukey_results)"
   ]
  },
  {
   "cell_type": "markdown",
   "metadata": {},
   "source": [
    "For promotions 1 and 2, the **mean difference** in sales was ~10.8k (promotion 1 having a higher mean), with a **95% CI** between ~14.8k and ~6.8k. With a very low **p-value**, we **reject** the null hypothesis - there is a significant difference between these promotions.\n",
    "\n",
    "For promotions 1 and 3, the **mean difference** in sales was ~2.7k (promotion 1 having a higher mean), with a **95% CI** between ~6.7k and ~-1.3k. With a high **p-value** of 0.244, we **fail to reject** the null hypothesis - there is no significant difference between these promotions.\n",
    "\n",
    "For promotions 2 and 3, the **mean difference** in sales was ~8k (promotion 3 having a higher mean), with a **95% CI** between ~4.1k and ~12k. With a very low **p-value**, we **reject** the null hypothesis - there is a significant difference between these promotions."
   ]
  },
  {
   "cell_type": "markdown",
   "metadata": {},
   "source": [
    "### 3.7 We can look at the mean sales by promotion with 95% Confidence Intervals:"
   ]
  },
  {
   "cell_type": "code",
   "execution_count": 18,
   "metadata": {},
   "outputs": [
    {
     "data": {
      "image/png": "[encoded data removed]",
      "text/plain": [
       "<Figure size 1000x600 with 1 Axes>"
      ]
     },
     "metadata": {},
     "output_type": "display_data"
    },
    {
     "data": {
      "text/html": [
       "<div>\n",
       "<style scoped>\n",
       "    .dataframe tbody tr th:only-of-type {\n",
       "        vertical-align: middle;\n",
       "    }\n",
       "\n",
       "    .dataframe tbody tr th {\n",
       "        vertical-align: top;\n",
       "    }\n",
       "\n",
       "    .dataframe thead th {\n",
       "        text-align: right;\n",
       "    }\n",
       "</style>\n",
       "<table border=\"1\" class=\"dataframe\">\n",
       "  <thead>\n",
       "    <tr style=\"text-align: right;\">\n",
       "      <th></th>\n",
       "      <th>Promotion</th>\n",
       "      <th>metric</th>\n",
       "      <th>mean</th>\n",
       "      <th>MoE</th>\n",
       "      <th>lower_ci</th>\n",
       "      <th>upper_ci</th>\n",
       "      <th>std</th>\n",
       "      <th>count</th>\n",
       "    </tr>\n",
       "  </thead>\n",
       "  <tbody>\n",
       "    <tr>\n",
       "      <th>0</th>\n",
       "      <td>1</td>\n",
       "      <td>SalesInThousands</td>\n",
       "      <td>58.099012</td>\n",
       "      <td>2.473939</td>\n",
       "      <td>55.625072</td>\n",
       "      <td>60.572951</td>\n",
       "      <td>16.553782</td>\n",
       "      <td>172</td>\n",
       "    </tr>\n",
       "    <tr>\n",
       "      <th>1</th>\n",
       "      <td>2</td>\n",
       "      <td>SalesInThousands</td>\n",
       "      <td>47.329415</td>\n",
       "      <td>2.159790</td>\n",
       "      <td>45.169625</td>\n",
       "      <td>49.489205</td>\n",
       "      <td>15.108955</td>\n",
       "      <td>188</td>\n",
       "    </tr>\n",
       "    <tr>\n",
       "      <th>2</th>\n",
       "      <td>3</td>\n",
       "      <td>SalesInThousands</td>\n",
       "      <td>55.364468</td>\n",
       "      <td>2.396694</td>\n",
       "      <td>52.967774</td>\n",
       "      <td>57.761162</td>\n",
       "      <td>16.766231</td>\n",
       "      <td>188</td>\n",
       "    </tr>\n",
       "  </tbody>\n",
       "</table>\n",
       "</div>"
      ],
      "text/plain": [
       "  Promotion            metric       mean       MoE   lower_ci   upper_ci  \\\n",
       "0         1  SalesInThousands  58.099012  2.473939  55.625072  60.572951   \n",
       "1         2  SalesInThousands  47.329415  2.159790  45.169625  49.489205   \n",
       "2         3  SalesInThousands  55.364468  2.396694  52.967774  57.761162   \n",
       "\n",
       "         std  count  \n",
       "0  16.553782    172  \n",
       "1  15.108955    188  \n",
       "2  16.766231    188  "
      ]
     },
     "execution_count": 18,
     "metadata": {},
     "output_type": "execute_result"
    }
   ],
   "source": [
    "sales_summary = calculate_summary(df,[\"Promotion\"],[\"SalesInThousands\"])\n",
    "plot_sales_data(sales_summary)\n",
    "sales_summary"
   ]
  },
  {
   "cell_type": "markdown",
   "metadata": {},
   "source": [
    "As we saw in Tukey test results, promotions 1 and 3 have similar mean values with no statistically significant difference. Promotion 2's mean value is significantly different from promotions 1 and 3, which is also visible in this graph.\n",
    "\n",
    "- Promotion 1's sales **95% CI** is between ~55.63k and ~60.57k, with mean at ~58.1k.\n",
    "- Promotion 2's sales **95% CI** is between ~45.17k and ~49.49k, with mean at ~47.3k.\n",
    "- Promotion 3's sales **95% CI** is between ~52.97k and ~57.76k, with mean at ~55.4k."
   ]
  },
  {
   "cell_type": "markdown",
   "metadata": {},
   "source": [
    "### 3.8 We can stratify the data by markets and see if there are any mean differences worth noting."
   ]
  },
  {
   "cell_type": "code",
   "execution_count": 19,
   "metadata": {},
   "outputs": [
    {
     "data": {
      "image/png": "[encoded data removed]",
      "text/plain": [
       "<Figure size 2000x1000 with 10 Axes>"
      ]
     },
     "metadata": {},
     "output_type": "display_data"
    }
   ],
   "source": [
    "market_summary = calculate_summary(df,[\"MarketID\",\"Promotion\"],[\"SalesInThousands\"])\n",
    "plot_market_sales_data(market_summary)"
   ]
  },
  {
   "cell_type": "markdown",
   "metadata": {},
   "source": [
    "While we do see some variation in mean differences between markets (for example promotions 2 and 3 having very similar means in some cases), we cannot conduct statistical tests for any significant results, since our sample sizes in each market are too small. Furthermore, an interesting observation is that Market 2 did not have any cases where promotion 2 was used."
   ]
  },
  {
   "cell_type": "markdown",
   "metadata": {},
   "source": [
    "## 4. Decision"
   ]
  },
  {
   "cell_type": "markdown",
   "metadata": {},
   "source": [
    "- **Promotion 1** is the most effective campaign overall, as it achieves the highest mean sales and significantly outperforms **promotion 2**.\n",
    "- While **promotion 1** and **promotion 3** have similar average sales (not statistically different), **promotion 1’s** slight edge makes it the safest choice (however, since they can be considered equally effective based on current data, further testing may provide more accurate results)\n",
    "- **Promotion 2** is the least effective strategy and should not be prioritized.\n",
    "\n",
    "1. **Sample Ratio Mismatch (SRM):**\n",
    "\n",
    "- The Chi-Square test yielded a statistic of 0.93 and a p-value of 0.6268.\n",
    "- Since the p-value > 0.05, there is no significant sample ratio mismatch, and the sample proportions for the promotions are not statistically different.\n",
    "\n",
    "2. **Promotion Group Comparisons:**\n",
    "\n",
    "- ANOVA Test Results: The p-value for comparing mean sales across all promotions is statistically significant (< 0.05), indicating at least one promotion has a different mean sales value.\n",
    "- Tukey’s HSD Test Results:\n",
    "    - Promotion 1 vs. Promotion 2: **Mean difference = ~10.8k, 95% CI = (6.8k, 14.8k), p-value < 0.05**. Promotion 1 has significantly higher mean sales than Promotion 2.\n",
    "    - Promotion 1 vs. Promotion 3: **Mean difference = ~2.7k, 95% CI = (-1.3k, 6.7k), p-value = 0.244**. No significant difference between these promotions.\n",
    "    - Promotion 2 vs. Promotion 3: **Mean difference = ~8k, 95% CI = (4.1k, 12k), p-value < 0.05**. Promotion 3 has significantly higher mean sales than Promotion 2.\n",
    "\n",
    "3. **Mean Sales by Promotion (with 95% Confidence Intervals):**\n",
    "\n",
    "- Promotion 1: **~58.1k, 95% CI = (55.63k, 60.57k)**\n",
    "- Promotion 2: **~47.3k, 95% CI = (45.17k, 49.49k)**\n",
    "- Promotion 3: **~55.4k, 95% CI = (52.97k, 57.76k)**\n",
    "\n",
    "4. **Market Stratification Analysis:**\n",
    "\n",
    "- Small sample sizes for each market prevent meaningful statistical testing.\n",
    "- Observations: Market 2 lacked cases of Promotion 2."
   ]
  },
  {
   "cell_type": "markdown",
   "metadata": {},
   "source": [
    "### Insights for the marketing and strategy team\n",
    "\n",
    "- **Promotion 1 is the Most Effective:** Based on the analysis, Promotion 1 consistently outperformed Promotion 2 and showed no significant difference with Promotion 3.\n",
    "    - Recommendation: Use Promotion 1 as the primary marketing strategy for launching the new menu item.\n",
    "\n",
    "- **Avoid Promotion 2:** Promotion 2 resulted in significantly lower sales than both Promotion 1 and Promotion 3.\n",
    "    - Recommendation: Discontinue using Promotion 2 in future campaigns.\n",
    "\n",
    "- **Consider Further Testing for Promotion 3:** Promotion 3 is comparable to Promotion 1 in terms of mean sales but with slightly lower averages.\n",
    "    - Recommendation: Conduct additional testing or refinement of Promotion 3 strategies to determine if it can match Promotion 1's effectiveness.\n",
    "\n",
    "- **Market-Specific Strategies:** Market 2 shows incomplete promotion testing (no cases for Promotion 2).\n",
    "    - Recommendation: Implement Promotion 2 in Market 2 to ensure comprehensive comparisons across all markets in future campaigns."
   ]
  },
  {
   "cell_type": "markdown",
   "metadata": {},
   "source": [
    "## 5. Future improvements"
   ]
  },
  {
   "cell_type": "markdown",
   "metadata": {},
   "source": [
    "1. **Stratify Data by Store Age:**\n",
    "    - Newer stores may perform differently from older ones due to differences in customer base.\n",
    "    - Grouping data by AgeOfStore (e.g., young vs. mature stores) and comparing promotion performance within each stratum.\n",
    "\n",
    "2. **Analyze Weekly Sales Trends:**\n",
    "    - The effectiveness of promotions may vary over time\n",
    "    - Examining weekly sales trends for each promotion could show us long-term impact. Are there diminishing returns, or does one promotion sustain interest better?\n",
    "\n",
    "3. **Segment by Market Size:**\n",
    "    - Larger markets might respond differently to promotions than smaller ones due to varying demographics and competition.\n",
    "    - Grouping data by MarketSize (small, medium, large) and evaluating how promotions perform in each category."
   ]
  }
 ],
 "metadata": {
  "kernelspec": {
   "display_name": ".venv",
   "language": "python",
   "name": "python3"
  },
  "language_info": {
   "codemirror_mode": {
    "name": "ipython",
    "version": 3
   },
   "file_extension": ".py",
   "mimetype": "text/x-python",
   "name": "python",
   "nbconvert_exporter": "python",
   "pygments_lexer": "ipython3",
   "version": "3.11.9"
  }
 },
 "nbformat": 4,
 "nbformat_minor": 4
}
