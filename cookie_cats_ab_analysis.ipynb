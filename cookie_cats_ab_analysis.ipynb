{
 "cells": [
  {
   "cell_type": "markdown",
   "metadata": {},
   "source": [
    "# Cookie Cats Mobile Game A/B Test Analysis"
   ]
  },
  {
   "cell_type": "markdown",
   "metadata": {},
   "source": [
    "## 1. Goal of the analysis"
   ]
  },
  {
   "cell_type": "markdown",
   "metadata": {},
   "source": [
    "1. **Impact of Gate Placement on Retention:**\n",
    "- **Hypothesis**: Moving the gate from level 30 to level 40 improves player engagement, as measured by retention rates on day 1 (retention_1) and day 7 (retention_7).\n",
    "\n",
    "2. **Long-Term Engagement and Gameplay Intensity:**\n",
    "- **Hypothesis**: Players encountering the gate at level 40 will exhibit higher gameplay intensity (measured by sum_gamerounds) compared to players encountering it at level 30.\n",
    "\n",
    "3. **Sample Ratio Mismatch (SRM) Impact:**\n",
    "- **Hypothesis**: The observed discrepancy in group sizes does not significantly impact the analysis conclusions but may require adjustments or resampling.\n",
    "\n",
    "4. **Statistical Significance of Retention Differences:**\n",
    "- **Hypothesis**: Differences in 7-day retention rates are statistically significant, indicating an advantage for either gate placement.\n",
    "\n",
    "5. **Distributional Differences in Gameplay:**\n",
    "- **Hypothesis**: The gameplay distribution (sum_gamerounds) differs significantly between the two groups."
   ]
  },
  {
   "cell_type": "markdown",
   "metadata": {},
   "source": [
    "### 1.1 Context and Description:\n",
    "\n",
    "In this project, we aim to evaluate the impact of moving the first gate in the Cookie Cats game from level 30 to level 40 on player retention and engagement. This A/B test randomly assigned players to two groups:\n",
    "- Control Group (gate_30): Players encountered the first gate at level 30.\n",
    "- Treatment Group (gate_40): Players encountered the first gate at level 40.\n",
    "\n",
    "We will determine whether moving the gate improves player engagement, measured by retention rates on day 1 (**retention_1**) and day 7 (**retention_7**), as well as total game rounds played during the first 14 days (**sum_gamerounds**).\n",
    "\n",
    "By addressing these aspects, the analysis aims to uncover actionable insights for the **game development team department** to assess the impact of gate placement on short-term and long-term retention rates and determine if early-game barriers encourage or discourage player engagement."
   ]
  },
  {
   "cell_type": "markdown",
   "metadata": {},
   "source": [
    "### 1.2 Target metric:\n",
    "\n",
    "- Primary Target metric: The difference in 7-day **retention rate proportions** between **gate_30** and **gate_40**. The 7-day retention better reflects long-term engagement.\n",
    "\n",
    "- Secondary metrics: \n",
    "    - The difference in 1-day **retention rate proportions** between **gate_30** and **gate_40**.\n",
    "    - The difference in **distribution** of game rounds played (**sum_gamerounds**) to measure engagement intensity. This will allow us to compare the overall differences in player behavior between the groups."
   ]
  },
  {
   "cell_type": "markdown",
   "metadata": {},
   "source": [
    "### 1.3 First, we import the main libraries and create a consistent visual colormap we will use for the analysis."
   ]
  },
  {
   "cell_type": "code",
   "execution_count": 1,
   "metadata": {},
   "outputs": [],
   "source": [
    "import matplotlib.pyplot as plt\n",
    "import pandas as pd\n",
    "import seaborn as sns\n",
    "from scipy.stats import mannwhitneyu\n",
    "from statsmodels.stats.proportion import confint_proportions_2indep\n",
    "\n",
    "from utilities import (find_missing_values, find_outliers,\n",
    "                       plot_gamerounds_boxplot, plot_retention_rates,\n",
    "                       get_variant_summary, get_srm, binomial_test, prop_z_test,\n",
    "                       bootstrap_ci, plot_gamerounds_hist, calculate_summary)"
   ]
  },
  {
   "cell_type": "code",
   "execution_count": 2,
   "metadata": {},
   "outputs": [],
   "source": [
    "pd.set_option('display.max_colwidth', None)\n",
    "plt.rcParams['figure.figsize'] = (10, 6)\n",
    "colors=[\"#ca0020\", \"#f4a582\", \"#92c5de\", \"#0571b0\"]\n",
    "sns.set_theme(style=\"white\")\n",
    "sns.set_palette(sns.color_palette(colors))"
   ]
  },
  {
   "cell_type": "markdown",
   "metadata": {},
   "source": [
    "## 2. Cleaning and inspecting data"
   ]
  },
  {
   "cell_type": "markdown",
   "metadata": {},
   "source": [
    "### 2.1 We import the dataset and take a look at it"
   ]
  },
  {
   "cell_type": "code",
   "execution_count": 3,
   "metadata": {},
   "outputs": [
    {
     "data": {
      "text/html": [
       "<div>\n",
       "<style scoped>\n",
       "    .dataframe tbody tr th:only-of-type {\n",
       "        vertical-align: middle;\n",
       "    }\n",
       "\n",
       "    .dataframe tbody tr th {\n",
       "        vertical-align: top;\n",
       "    }\n",
       "\n",
       "    .dataframe thead th {\n",
       "        text-align: right;\n",
       "    }\n",
       "</style>\n",
       "<table border=\"1\" class=\"dataframe\">\n",
       "  <thead>\n",
       "    <tr style=\"text-align: right;\">\n",
       "      <th></th>\n",
       "      <th>userid</th>\n",
       "      <th>version</th>\n",
       "      <th>sum_gamerounds</th>\n",
       "      <th>retention_1</th>\n",
       "      <th>retention_7</th>\n",
       "    </tr>\n",
       "  </thead>\n",
       "  <tbody>\n",
       "    <tr>\n",
       "      <th>0</th>\n",
       "      <td>116</td>\n",
       "      <td>gate_30</td>\n",
       "      <td>3</td>\n",
       "      <td>False</td>\n",
       "      <td>False</td>\n",
       "    </tr>\n",
       "    <tr>\n",
       "      <th>1</th>\n",
       "      <td>337</td>\n",
       "      <td>gate_30</td>\n",
       "      <td>38</td>\n",
       "      <td>True</td>\n",
       "      <td>False</td>\n",
       "    </tr>\n",
       "    <tr>\n",
       "      <th>2</th>\n",
       "      <td>377</td>\n",
       "      <td>gate_40</td>\n",
       "      <td>165</td>\n",
       "      <td>True</td>\n",
       "      <td>False</td>\n",
       "    </tr>\n",
       "    <tr>\n",
       "      <th>3</th>\n",
       "      <td>483</td>\n",
       "      <td>gate_40</td>\n",
       "      <td>1</td>\n",
       "      <td>False</td>\n",
       "      <td>False</td>\n",
       "    </tr>\n",
       "    <tr>\n",
       "      <th>4</th>\n",
       "      <td>488</td>\n",
       "      <td>gate_40</td>\n",
       "      <td>179</td>\n",
       "      <td>True</td>\n",
       "      <td>True</td>\n",
       "    </tr>\n",
       "  </tbody>\n",
       "</table>\n",
       "</div>"
      ],
      "text/plain": [
       "   userid  version  sum_gamerounds  retention_1  retention_7\n",
       "0     116  gate_30               3        False        False\n",
       "1     337  gate_30              38         True        False\n",
       "2     377  gate_40             165         True        False\n",
       "3     483  gate_40               1        False        False\n",
       "4     488  gate_40             179         True         True"
      ]
     },
     "execution_count": 3,
     "metadata": {},
     "output_type": "execute_result"
    }
   ],
   "source": [
    "df = pd.read_csv(\"cookie_cats.csv\")\n",
    "df.head()"
   ]
  },
  {
   "cell_type": "markdown",
   "metadata": {},
   "source": [
    "### 2.2 We check for any missing values"
   ]
  },
  {
   "cell_type": "code",
   "execution_count": 4,
   "metadata": {},
   "outputs": [
    {
     "data": {
      "text/html": [
       "<div>\n",
       "<style scoped>\n",
       "    .dataframe tbody tr th:only-of-type {\n",
       "        vertical-align: middle;\n",
       "    }\n",
       "\n",
       "    .dataframe tbody tr th {\n",
       "        vertical-align: top;\n",
       "    }\n",
       "\n",
       "    .dataframe thead th {\n",
       "        text-align: right;\n",
       "    }\n",
       "</style>\n",
       "<table border=\"1\" class=\"dataframe\">\n",
       "  <thead>\n",
       "    <tr style=\"text-align: right;\">\n",
       "      <th></th>\n",
       "      <th>Zeroes</th>\n",
       "      <th>Empty Strings</th>\n",
       "      <th>NaN</th>\n",
       "    </tr>\n",
       "  </thead>\n",
       "  <tbody>\n",
       "    <tr>\n",
       "      <th>userid</th>\n",
       "      <td>0</td>\n",
       "      <td>0</td>\n",
       "      <td>0</td>\n",
       "    </tr>\n",
       "    <tr>\n",
       "      <th>version</th>\n",
       "      <td>0</td>\n",
       "      <td>0</td>\n",
       "      <td>0</td>\n",
       "    </tr>\n",
       "    <tr>\n",
       "      <th>sum_gamerounds</th>\n",
       "      <td>3994</td>\n",
       "      <td>0</td>\n",
       "      <td>0</td>\n",
       "    </tr>\n",
       "    <tr>\n",
       "      <th>retention_1</th>\n",
       "      <td>50036</td>\n",
       "      <td>0</td>\n",
       "      <td>0</td>\n",
       "    </tr>\n",
       "    <tr>\n",
       "      <th>retention_7</th>\n",
       "      <td>73408</td>\n",
       "      <td>0</td>\n",
       "      <td>0</td>\n",
       "    </tr>\n",
       "  </tbody>\n",
       "</table>\n",
       "</div>"
      ],
      "text/plain": [
       "                Zeroes  Empty Strings  NaN\n",
       "userid               0              0    0\n",
       "version              0              0    0\n",
       "sum_gamerounds    3994              0    0\n",
       "retention_1      50036              0    0\n",
       "retention_7      73408              0    0"
      ]
     },
     "execution_count": 4,
     "metadata": {},
     "output_type": "execute_result"
    }
   ],
   "source": [
    "find_missing_values(df)"
   ]
  },
  {
   "cell_type": "markdown",
   "metadata": {},
   "source": [
    "It seems like nearly 4 thousand players did not play a single round of the game - we will ignore the data from the players that didn't play any levels and never turned the game on within the 7 tracked days."
   ]
  },
  {
   "cell_type": "code",
   "execution_count": 5,
   "metadata": {},
   "outputs": [],
   "source": [
    "df = df[~((df[\"retention_1\"] == False)\n",
    "        & (df[\"retention_7\"] == False)\n",
    "        & (df[\"sum_gamerounds\"] == 0)\n",
    "        )]"
   ]
  },
  {
   "cell_type": "markdown",
   "metadata": {},
   "source": [
    "### 2.3 We check for any duplicate entries"
   ]
  },
  {
   "cell_type": "code",
   "execution_count": 6,
   "metadata": {},
   "outputs": [
    {
     "name": "stdout",
     "output_type": "stream",
     "text": [
      "There are 0 duplicate rows.\n"
     ]
    }
   ],
   "source": [
    "print(f\"There are {df.duplicated().sum()} duplicate rows.\")"
   ]
  },
  {
   "cell_type": "markdown",
   "metadata": {},
   "source": [
    "### 2.4 We check the datatypes"
   ]
  },
  {
   "cell_type": "code",
   "execution_count": 7,
   "metadata": {},
   "outputs": [
    {
     "data": {
      "text/plain": [
       "userid             int64\n",
       "version           object\n",
       "sum_gamerounds     int64\n",
       "retention_1         bool\n",
       "retention_7         bool\n",
       "dtype: object"
      ]
     },
     "execution_count": 7,
     "metadata": {},
     "output_type": "execute_result"
    }
   ],
   "source": [
    "df.dtypes"
   ]
  },
  {
   "cell_type": "code",
   "execution_count": 8,
   "metadata": {},
   "outputs": [],
   "source": [
    "df = df.astype({\"version\": \"category\"})"
   ]
  },
  {
   "cell_type": "markdown",
   "metadata": {},
   "source": [
    "Since the version of the game represents the control or experiment group, we convert it to categorical data."
   ]
  },
  {
   "cell_type": "markdown",
   "metadata": {},
   "source": [
    "### 2.5 Let's check for any outliers in numerical fields using the IQR method"
   ]
  },
  {
   "cell_type": "code",
   "execution_count": 9,
   "metadata": {},
   "outputs": [
    {
     "name": "stdout",
     "output_type": "stream",
     "text": [
      "No outliers in 'userid'\n",
      "Outliers in 'sum_gamerounds':\n",
      "2        165\n",
      "4        179\n",
      "5        187\n",
      "9        153\n",
      "14       305\n",
      "        ... \n",
      "90121    328\n",
      "90125    186\n",
      "90134    191\n",
      "90150    253\n",
      "90160    143\n",
      "Name: sum_gamerounds, Length: 9616, dtype: int64\n",
      "\n",
      "Outliers:\n",
      "        userid  sum_gamerounds\n",
      "2          377             165\n",
      "4          488             179\n",
      "5          540             187\n",
      "9         1587             153\n",
      "14        2218             305\n",
      "...        ...             ...\n",
      "90121  9991145             328\n",
      "90125  9991408             186\n",
      "90134  9991949             191\n",
      "90150  9995412             253\n",
      "90160  9996269             143\n",
      "\n",
      "[9616 rows x 2 columns]\n"
     ]
    }
   ],
   "source": [
    "numeric = [feature for feature in df if df[feature].dtype in [\"int64\",\"float64\"]]\n",
    "outliers = find_outliers(df,numeric)\n",
    "print(f\"Outliers:\\n{outliers}\")"
   ]
  },
  {
   "cell_type": "code",
   "execution_count": 10,
   "metadata": {},
   "outputs": [
    {
     "data": {
      "text/html": [
       "<div>\n",
       "<style scoped>\n",
       "    .dataframe tbody tr th:only-of-type {\n",
       "        vertical-align: middle;\n",
       "    }\n",
       "\n",
       "    .dataframe tbody tr th {\n",
       "        vertical-align: top;\n",
       "    }\n",
       "\n",
       "    .dataframe thead th {\n",
       "        text-align: right;\n",
       "    }\n",
       "</style>\n",
       "<table border=\"1\" class=\"dataframe\">\n",
       "  <thead>\n",
       "    <tr style=\"text-align: right;\">\n",
       "      <th></th>\n",
       "      <th>userid</th>\n",
       "      <th>sum_gamerounds</th>\n",
       "    </tr>\n",
       "  </thead>\n",
       "  <tbody>\n",
       "    <tr>\n",
       "      <th>count</th>\n",
       "      <td>8.630600e+04</td>\n",
       "      <td>86306.000000</td>\n",
       "    </tr>\n",
       "    <tr>\n",
       "      <th>mean</th>\n",
       "      <td>4.997095e+06</td>\n",
       "      <td>54.206254</td>\n",
       "    </tr>\n",
       "    <tr>\n",
       "      <th>std</th>\n",
       "      <td>2.883615e+06</td>\n",
       "      <td>199.072919</td>\n",
       "    </tr>\n",
       "    <tr>\n",
       "      <th>min</th>\n",
       "      <td>1.160000e+02</td>\n",
       "      <td>0.000000</td>\n",
       "    </tr>\n",
       "    <tr>\n",
       "      <th>25%</th>\n",
       "      <td>2.512700e+06</td>\n",
       "      <td>6.000000</td>\n",
       "    </tr>\n",
       "    <tr>\n",
       "      <th>50%</th>\n",
       "      <td>4.995124e+06</td>\n",
       "      <td>18.000000</td>\n",
       "    </tr>\n",
       "    <tr>\n",
       "      <th>75%</th>\n",
       "      <td>7.494322e+06</td>\n",
       "      <td>54.000000</td>\n",
       "    </tr>\n",
       "    <tr>\n",
       "      <th>max</th>\n",
       "      <td>9.999861e+06</td>\n",
       "      <td>49854.000000</td>\n",
       "    </tr>\n",
       "  </tbody>\n",
       "</table>\n",
       "</div>"
      ],
      "text/plain": [
       "             userid  sum_gamerounds\n",
       "count  8.630600e+04    86306.000000\n",
       "mean   4.997095e+06       54.206254\n",
       "std    2.883615e+06      199.072919\n",
       "min    1.160000e+02        0.000000\n",
       "25%    2.512700e+06        6.000000\n",
       "50%    4.995124e+06       18.000000\n",
       "75%    7.494322e+06       54.000000\n",
       "max    9.999861e+06    49854.000000"
      ]
     },
     "execution_count": 10,
     "metadata": {},
     "output_type": "execute_result"
    }
   ],
   "source": [
    "df.describe()"
   ]
  },
  {
   "cell_type": "markdown",
   "metadata": {},
   "source": [
    "We can see quite a few outliers in the game rounds field. Using a boxplot visualization we can get more information:"
   ]
  },
  {
   "cell_type": "code",
   "execution_count": 11,
   "metadata": {},
   "outputs": [
    {
     "data": {
      "image/png": "[encoded data removed]",
      "text/plain": [
       "<Figure size 1000x600 with 1 Axes>"
      ]
     },
     "metadata": {},
     "output_type": "display_data"
    }
   ],
   "source": [
    "plot_gamerounds_boxplot(df)"
   ]
  },
  {
   "cell_type": "markdown",
   "metadata": {},
   "source": [
    "It seems like the one instance of ~50k plays was either an error in data gathering, or the player used cheating methods. Nevertheless, we will remove this single value from the dataset."
   ]
  },
  {
   "cell_type": "code",
   "execution_count": 12,
   "metadata": {},
   "outputs": [
    {
     "data": {
      "image/png": "[encoded data removed]",
      "text/plain": [
       "<Figure size 1000x600 with 1 Axes>"
      ]
     },
     "metadata": {},
     "output_type": "display_data"
    }
   ],
   "source": [
    "df = df[df[\"sum_gamerounds\"] != df[\"sum_gamerounds\"].max()]\n",
    "plot_gamerounds_boxplot(df)"
   ]
  },
  {
   "cell_type": "markdown",
   "metadata": {},
   "source": [
    "Now the data looks more proper. While we do have some outliers in the high field of 2000+ plays, it could be possible that these were just very dedicated players. Furthermore, we do not have enough information about the data to determine whether any in-game cheating mechanisms were used to deny this data."
   ]
  },
  {
   "cell_type": "markdown",
   "metadata": {},
   "source": [
    "### 2.7 Let's look at the retention rate by A/B groups:"
   ]
  },
  {
   "cell_type": "code",
   "execution_count": 13,
   "metadata": {},
   "outputs": [
    {
     "data": {
      "image/png": "[encoded data removed]",
      "text/plain": [
       "<Figure size 1000x600 with 1 Axes>"
      ]
     },
     "metadata": {},
     "output_type": "display_data"
    },
    {
     "data": {
      "text/html": [
       "<div>\n",
       "<style scoped>\n",
       "    .dataframe tbody tr th:only-of-type {\n",
       "        vertical-align: middle;\n",
       "    }\n",
       "\n",
       "    .dataframe tbody tr th {\n",
       "        vertical-align: top;\n",
       "    }\n",
       "\n",
       "    .dataframe thead th {\n",
       "        text-align: right;\n",
       "    }\n",
       "</style>\n",
       "<table border=\"1\" class=\"dataframe\">\n",
       "  <thead>\n",
       "    <tr style=\"text-align: right;\">\n",
       "      <th></th>\n",
       "      <th>version</th>\n",
       "      <th>metric</th>\n",
       "      <th>mean</th>\n",
       "      <th>MoE</th>\n",
       "      <th>lower_ci</th>\n",
       "      <th>upper_ci</th>\n",
       "      <th>std</th>\n",
       "      <th>count</th>\n",
       "    </tr>\n",
       "  </thead>\n",
       "  <tbody>\n",
       "    <tr>\n",
       "      <th>0</th>\n",
       "      <td>Gate 30</td>\n",
       "      <td>retention_1</td>\n",
       "      <td>46.788734</td>\n",
       "      <td>0.472629</td>\n",
       "      <td>46.316105</td>\n",
       "      <td>47.261363</td>\n",
       "      <td>49.897354</td>\n",
       "      <td>42818</td>\n",
       "    </tr>\n",
       "    <tr>\n",
       "      <th>1</th>\n",
       "      <td>Gate 40</td>\n",
       "      <td>retention_1</td>\n",
       "      <td>46.264401</td>\n",
       "      <td>0.468636</td>\n",
       "      <td>45.795765</td>\n",
       "      <td>46.733037</td>\n",
       "      <td>49.860831</td>\n",
       "      <td>43487</td>\n",
       "    </tr>\n",
       "    <tr>\n",
       "      <th>2</th>\n",
       "      <td>Gate 30</td>\n",
       "      <td>retention_7</td>\n",
       "      <td>19.853800</td>\n",
       "      <td>0.377843</td>\n",
       "      <td>19.475957</td>\n",
       "      <td>20.231643</td>\n",
       "      <td>39.890397</td>\n",
       "      <td>42818</td>\n",
       "    </tr>\n",
       "    <tr>\n",
       "      <th>3</th>\n",
       "      <td>Gate 40</td>\n",
       "      <td>retention_7</td>\n",
       "      <td>19.037873</td>\n",
       "      <td>0.369004</td>\n",
       "      <td>18.668869</td>\n",
       "      <td>19.406878</td>\n",
       "      <td>39.260440</td>\n",
       "      <td>43487</td>\n",
       "    </tr>\n",
       "  </tbody>\n",
       "</table>\n",
       "</div>"
      ],
      "text/plain": [
       "   version       metric       mean       MoE   lower_ci   upper_ci        std  \\\n",
       "0  Gate 30  retention_1  46.788734  0.472629  46.316105  47.261363  49.897354   \n",
       "1  Gate 40  retention_1  46.264401  0.468636  45.795765  46.733037  49.860831   \n",
       "2  Gate 30  retention_7  19.853800  0.377843  19.475957  20.231643  39.890397   \n",
       "3  Gate 40  retention_7  19.037873  0.369004  18.668869  19.406878  39.260440   \n",
       "\n",
       "   count  \n",
       "0  42818  \n",
       "1  43487  \n",
       "2  42818  \n",
       "3  43487  "
      ]
     },
     "execution_count": 13,
     "metadata": {},
     "output_type": "execute_result"
    }
   ],
   "source": [
    "retention_summary = calculate_summary(df,[\"version\"],[\"retention_1\",\"retention_7\"], True)\n",
    "plot_retention_rates(retention_summary)\n",
    "retention_summary"
   ]
  },
  {
   "cell_type": "markdown",
   "metadata": {},
   "source": [
    "Initially we can see that the 1-day retention rate differs by about 0.5% (higher in **gate_30** group), while the 7-day retention rate differs by about 0.8% (also higher in the **gate_30** group). To determine whether this is just by chance or if it statistically significantly impactful, we will do statistical analysis.\n",
    "\n",
    "- Control group's 1-day retention rate's **95% CI** is between ~46.32% and ~47.26%\n",
    "- Experiment group's 1-day retention rate's **95% CI** is between ~45.8% and ~46.73%\n",
    "- Control group's 7-day retention rate's **95% CI** is between ~19.48% and ~20.23%\n",
    "- Experiment group's 7-day retention rate's **95% CI** is between ~18.67% and ~19.41%"
   ]
  },
  {
   "cell_type": "markdown",
   "metadata": {},
   "source": [
    "## 3. Calculations"
   ]
  },
  {
   "cell_type": "markdown",
   "metadata": {},
   "source": [
    "### 3.1 What is our sample size and what are the version variation proportions?"
   ]
  },
  {
   "cell_type": "code",
   "execution_count": 14,
   "metadata": {},
   "outputs": [
    {
     "name": "stdout",
     "output_type": "stream",
     "text": [
      "Total Sample Size: 86305\n",
      "\n"
     ]
    },
    {
     "data": {
      "text/html": [
       "<div>\n",
       "<style scoped>\n",
       "    .dataframe tbody tr th:only-of-type {\n",
       "        vertical-align: middle;\n",
       "    }\n",
       "\n",
       "    .dataframe tbody tr th {\n",
       "        vertical-align: top;\n",
       "    }\n",
       "\n",
       "    .dataframe thead th {\n",
       "        text-align: right;\n",
       "    }\n",
       "</style>\n",
       "<table border=\"1\" class=\"dataframe\">\n",
       "  <thead>\n",
       "    <tr style=\"text-align: right;\">\n",
       "      <th></th>\n",
       "      <th>Sample Size</th>\n",
       "      <th>Proportion</th>\n",
       "    </tr>\n",
       "    <tr>\n",
       "      <th>version</th>\n",
       "      <th></th>\n",
       "      <th></th>\n",
       "    </tr>\n",
       "  </thead>\n",
       "  <tbody>\n",
       "    <tr>\n",
       "      <th>gate_30</th>\n",
       "      <td>42818</td>\n",
       "      <td>49.612421</td>\n",
       "    </tr>\n",
       "    <tr>\n",
       "      <th>gate_40</th>\n",
       "      <td>43487</td>\n",
       "      <td>50.387579</td>\n",
       "    </tr>\n",
       "  </tbody>\n",
       "</table>\n",
       "</div>"
      ],
      "text/plain": [
       "         Sample Size  Proportion\n",
       "version                         \n",
       "gate_30        42818   49.612421\n",
       "gate_40        43487   50.387579"
      ]
     },
     "execution_count": 14,
     "metadata": {},
     "output_type": "execute_result"
    }
   ],
   "source": [
    "total_samples, variant_counts, summary = get_variant_summary(df,\"version\")\n",
    "summary"
   ]
  },
  {
   "cell_type": "markdown",
   "metadata": {},
   "source": [
    "We can see quite a difference in sample size between the 2 groups (about 600 users difference, or ~0.4% off 50% for each side). To check whether this discrepancy is due to randomness or a bug, we will use the **Chi-Square test**."
   ]
  },
  {
   "cell_type": "markdown",
   "metadata": {},
   "source": [
    "### 3.2 Testing for SRM (sample ratio mismatch) using the **Chi-Square test** (using α level of 5%)"
   ]
  },
  {
   "cell_type": "code",
   "execution_count": 15,
   "metadata": {},
   "outputs": [
    {
     "name": "stdout",
     "output_type": "stream",
     "text": [
      "Chi-Square statistic: 5.19\n",
      "P-value: 0.0228\n",
      "The p-value is less than 0.05, indicating a significant sample ratio mismatch.\n"
     ]
    }
   ],
   "source": [
    "get_srm(total_samples, variant_counts)"
   ]
  },
  {
   "cell_type": "markdown",
   "metadata": {},
   "source": [
    "Our **p-value** is quite low (0.0228), indicating that the variant proportions have a significant mismatch. Normally, this mismatch should not occur and may indicate wrongly collected data - if the data were collected by the development company, a recommendation would be to redo the experiment and extract the same number of control group samples as experiment group samples.\n",
    "\n",
    "Nevertheles, to see whether the sample ratio mismatch may impact our analytical results, we will subset our data to create equal-sized groups for further testing. We will perform tests using the original data and the resampled groups, allowing us to see whether the SRM impacted the analysis results."
   ]
  },
  {
   "cell_type": "markdown",
   "metadata": {},
   "source": [
    "### 3.3 Performing statistical tests"
   ]
  },
  {
   "cell_type": "markdown",
   "metadata": {},
   "source": [
    "**H0 (Null Hypothesis)**: p2 - p1 = 0 (There is no statistically significant difference the retention proportions between groups), where p2 is **group_40 7-day retention** and p1 is **group_30 7-day retention**\n",
    "\n",
    "**Ha (Alternative Hypothesis)**: p2 - p1 ≠ 0\n",
    "\n",
    "**α = 0.05 (5%)**"
   ]
  },
  {
   "cell_type": "markdown",
   "metadata": {},
   "source": [
    "### 3.4 Binomial test - is gate_40 retention proportion significantly different from gate_30 retention proportion?"
   ]
  },
  {
   "cell_type": "markdown",
   "metadata": {},
   "source": [
    "#### We will use the binomial test to compare observed successes in one group against a hypothesized probability derived from the pooled data."
   ]
  },
  {
   "cell_type": "markdown",
   "metadata": {},
   "source": [
    "#### Assumptions:\n",
    "\n",
    "- Data independence: due to the nature of the dataset, players don't influence each other's retention\n",
    "- Binary outcome: data has only 2 outcomes (True/False)\n",
    "- Fixed number of observations: we know the number of observations\n",
    "- Same probability: the probability for retention rates should not vary systematically"
   ]
  },
  {
   "cell_type": "code",
   "execution_count": 16,
   "metadata": {},
   "outputs": [],
   "source": [
    "gate_30_retention7 = df[df[\"version\"] == \"gate_30\"][\"retention_7\"]\n",
    "gate_40_retention7 = df[df[\"version\"] == \"gate_40\"][\"retention_7\"]\n",
    "sub_gate_30_retention7 = gate_30_retention7.sample(42000, replace=False)\n",
    "sub_gate_40_retention7 = gate_40_retention7.sample(42000, replace=False)\n",
    "\n",
    "gate_30_retention1 = df[df[\"version\"] == \"gate_30\"][\"retention_1\"]\n",
    "gate_40_retention1 = df[df[\"version\"] == \"gate_40\"][\"retention_1\"]\n",
    "sub_gate_30_retention1 = gate_30_retention1.sample(42000, replace=False)\n",
    "sub_gate_40_retention1 = gate_40_retention1.sample(42000, replace=False)"
   ]
  },
  {
   "cell_type": "code",
   "execution_count": 17,
   "metadata": {},
   "outputs": [
    {
     "name": "stdout",
     "output_type": "stream",
     "text": [
      "7-day retention binomial test p-value: 0.0330\n",
      "Subset 7-day retention binomial test p-value: 0.0320\n",
      "\n",
      "1-day retention binomial test p-value: 0.2773\n",
      "Subset 1-day retention binomial test p-value: 0.2732\n"
     ]
    }
   ],
   "source": [
    "binom_result_7 = binomial_test(gate_40_retention7, gate_30_retention7)\n",
    "print(f\"7-day retention binomial test p-value: {binom_result_7.pvalue:.4f}\")\n",
    "binom_result_sub_7 = binomial_test(sub_gate_40_retention7, sub_gate_30_retention7)\n",
    "print(f\"Subset 7-day retention binomial test p-value: {binom_result_sub_7.pvalue:.4f}\\n\")\n",
    "\n",
    "binom_result_1 = binomial_test(gate_40_retention1, gate_30_retention1)\n",
    "print(f\"1-day retention binomial test p-value: {binom_result_1.pvalue:.4f}\")\n",
    "binom_result_sub_1 = binomial_test(sub_gate_40_retention1, sub_gate_30_retention1)\n",
    "print(f\"Subset 1-day retention binomial test p-value: {binom_result_sub_1.pvalue:.4f}\")"
   ]
  },
  {
   "cell_type": "markdown",
   "metadata": {},
   "source": [
    "We can see that for 7-day retention, the **p-value** in both original data and sampled data is less than our alpha of 0.05, therefore we **reject the null hypothesis** - there is a significant difference in retention proportions between the control and experiment group in 7-day retention.\n",
    "\n",
    "For 1-day retention, the **p-value** in both original data and sampled data is above our alpha treshold, leading us to **fail to reject the null hypothesis** - we do not have proof of significant difference between control and experiment group's 1-day retention proportion."
   ]
  },
  {
   "cell_type": "markdown",
   "metadata": {},
   "source": [
    "### 3.5 Proportions z-test - supporting our previous findings"
   ]
  },
  {
   "cell_type": "markdown",
   "metadata": {},
   "source": [
    "#### Since the sample sizes are large, the proportions z-test is efficient because it assumes normality based on the Central Limit Theorem. It will also support our hypothesis testing validity due to the previously mentioned sample ratio mismatch."
   ]
  },
  {
   "cell_type": "markdown",
   "metadata": {},
   "source": [
    "#### Assumptions:\n",
    "\n",
    "- Data independence: due to the nature of the dataset, players don't influence each other's retention\n",
    "- Binary outcome: data has only 2 outcomes (True/False)\n",
    "- Simple random samples - the experiment and control group was randomly assigned to each player\n",
    "- Large enough sample size (at least 5 observations of True and False in each group)"
   ]
  },
  {
   "cell_type": "code",
   "execution_count": 18,
   "metadata": {},
   "outputs": [
    {
     "name": "stdout",
     "output_type": "stream",
     "text": [
      "7-day retention proportions z-test test p-value: 0.0025\n",
      "Subset 7-day retention proportions z-test test p-value: 0.0024\n",
      "\n",
      "1-day retention proportions z-test test p-value: 0.1226\n",
      "Subset 1-day retention proportions z-test test p-value: 0.1196\n"
     ]
    }
   ],
   "source": [
    "stat7, p_value7 = prop_z_test(gate_30_retention7, gate_40_retention7)\n",
    "print(f\"7-day retention proportions z-test test p-value: {p_value7:.4f}\")\n",
    "\n",
    "sub_stat7, sub_p_value7 = prop_z_test(sub_gate_30_retention7, sub_gate_40_retention7)\n",
    "print(f\"Subset 7-day retention proportions z-test test p-value: {sub_p_value7:.4f}\\n\")\n",
    "\n",
    "stat1, p_value1 = prop_z_test(gate_30_retention1, gate_40_retention1)\n",
    "print(f\"1-day retention proportions z-test test p-value: {p_value1:.4f}\")\n",
    "\n",
    "sub_stat1, sub_p_value1 = prop_z_test(sub_gate_30_retention1, sub_gate_40_retention1)\n",
    "print(f\"Subset 1-day retention proportions z-test test p-value: {sub_p_value1:.4f}\")"
   ]
  },
  {
   "cell_type": "markdown",
   "metadata": {},
   "source": [
    "The **proportions z-test** confirms the same results we got previously:\n",
    "\n",
    "We can see that for 7-day retention, the **p-value** in both original data and sampled data is less than our alpha of 0.05, therefore we **reject the null hypothesis** - there is a significant difference in retention proportions between the control and experiment group in 7-day retention.\n",
    "\n",
    "For 1-day retention, the **p-value** in both original data and sampled data is above our alpha treshold, leading us to **fail to reject the null hypothesis** - we do not have proof of significant difference between control and experiment group's 1-day retention proportion."
   ]
  },
  {
   "cell_type": "markdown",
   "metadata": {},
   "source": [
    "### 3.6 Confidence interval of retention proportion difference"
   ]
  },
  {
   "cell_type": "markdown",
   "metadata": {},
   "source": [
    "### 3.6.1 To quantify the range of plausible values for the difference between the two proportions (gate_40 - gate_30), we will use confidence intervals"
   ]
  },
  {
   "cell_type": "code",
   "execution_count": 19,
   "metadata": {},
   "outputs": [
    {
     "name": "stdout",
     "output_type": "stream",
     "text": [
      "Confidence interval for difference in 7-day retention proportions: (-1.34, -0.29)\n",
      "\n",
      "Confidence interval for difference in 1-day retention proportions: (-1.19, 0.14)\n"
     ]
    }
   ],
   "source": [
    "ci_low7, ci_high7 = confint_proportions_2indep(\n",
    "    count1=gate_40_retention7.sum(), nobs1=len(gate_40_retention7),\n",
    "    count2=gate_30_retention7.sum(), nobs2=len(gate_30_retention7)\n",
    ")\n",
    "ci_low1, ci_high1 = confint_proportions_2indep(\n",
    "    count1=gate_40_retention1.sum(), nobs1=len(gate_40_retention1),\n",
    "    count2=gate_30_retention1.sum(), nobs2=len(gate_30_retention1)\n",
    ")\n",
    "\n",
    "print(f\"Confidence interval for difference in 7-day retention proportions: ({ci_low7*100:.2f}, {ci_high7*100:.2f})\\n\")\n",
    "\n",
    "print(f\"Confidence interval for difference in 1-day retention proportions: ({ci_low1*100:.2f}, {ci_high1*100:.2f})\")"
   ]
  },
  {
   "cell_type": "markdown",
   "metadata": {},
   "source": [
    "Since the function subtracts the first sample from the second, the negative confidence interval in the 7-day retention proportions suggests that the **experiment** group (Gate 40) has **lower** retention proportion, with a **95% CI** between -1.34% and -0.29%. Since the confidence interval does not include 0, we can once again confirm that the difference in proportions between the 2 groups is significant.\n",
    "\n",
    "As for the 1-day retention proportions, the **95% CI** between -1.19% and 0.14% (overlapping 0) indicates that there is no significant difference in proportions between the 2 groups."
   ]
  },
  {
   "cell_type": "markdown",
   "metadata": {},
   "source": [
    "### 3.6.2 Confidence interval of retention proportion difference using bootstrap:"
   ]
  },
  {
   "cell_type": "code",
   "execution_count": 20,
   "metadata": {},
   "outputs": [
    {
     "name": "stdout",
     "output_type": "stream",
     "text": [
      "Bootstrapped confidence interval for difference in 7-day retention proportions: (-1.35, -0.29)\n",
      "\n",
      "Bootstrapped confidence interval for difference in 1-day retention proportions: (-1.18, 0.13)\n"
     ]
    }
   ],
   "source": [
    "boot_ci_low7, boot_ci_high7 = bootstrap_ci(gate_30_retention7, gate_40_retention7)\n",
    "print(f\"Bootstrapped confidence interval for difference in 7-day retention proportions: ({boot_ci_low7*100:.2f}, {boot_ci_high7*100:.2f})\\n\")\n",
    "\n",
    "boot_ci_low1, boot_ci_high1 = bootstrap_ci(gate_30_retention1, gate_40_retention1)\n",
    "print(f\"Bootstrapped confidence interval for difference in 1-day retention proportions: ({boot_ci_low1*100:.2f}, {boot_ci_high1*100:.2f})\")"
   ]
  },
  {
   "cell_type": "markdown",
   "metadata": {},
   "source": [
    "We can see that our bootstrapped confidence intervals for 7-day and 1-day retention proportions show nearly identical results as analytically calculated confidence intervals. This supports the robustness of our findings, regardless of the method used."
   ]
  },
  {
   "cell_type": "markdown",
   "metadata": {},
   "source": [
    "### 3.7 Checking the difference in **distribution** of game rounds played"
   ]
  },
  {
   "cell_type": "markdown",
   "metadata": {},
   "source": [
    "**H0 (Null Hypothesis)**: The distributions of gamerounds in control and experiment groups are identical.\n",
    "\n",
    "**Ha (Alternative Hypothesis)**: The distributions of gamerounds in the control and experiment groups are different (one group tends to have lower/higher gamerounds than the other).\n",
    "\n",
    "**α = 0.05 (5%)**"
   ]
  },
  {
   "cell_type": "markdown",
   "metadata": {},
   "source": [
    "Let's first check the data distribution of the game rounds played between versions"
   ]
  },
  {
   "cell_type": "code",
   "execution_count": 21,
   "metadata": {},
   "outputs": [
    {
     "data": {
      "image/png": "[encoded data removed]",
      "text/plain": [
       "<Figure size 1000x500 with 2 Axes>"
      ]
     },
     "metadata": {},
     "output_type": "display_data"
    }
   ],
   "source": [
    "plot_gamerounds_hist(df)"
   ]
  },
  {
   "cell_type": "markdown",
   "metadata": {},
   "source": [
    "We can see that the data does not follow a normal distribution. Therefore, we will use the **Mann-Whitney U** test, for which there are these assumptions:\n",
    "- The variable must be continuous\n",
    "- The data takes a non-normal distribution\n",
    "- The data in both groups takes a similar shape\n",
    "- The data in both groups should be independent of each other\n",
    "\n",
    "Since we meet all of the assumptions, we can continue with the test."
   ]
  },
  {
   "cell_type": "code",
   "execution_count": 22,
   "metadata": {},
   "outputs": [
    {
     "name": "stdout",
     "output_type": "stream",
     "text": [
      "Mann-Whitney U test statistic: 936685573.0000, p-value: 0.1210\n"
     ]
    }
   ],
   "source": [
    "gate_30_rounds = df[df[\"version\"] == \"gate_30\"][\"sum_gamerounds\"]\n",
    "gate_40_rounds = df[df[\"version\"] == \"gate_40\"][\"sum_gamerounds\"]\n",
    "\n",
    "stat, p_value = mannwhitneyu(gate_30_rounds, gate_40_rounds)\n",
    "print(f\"Mann-Whitney U test statistic: {stat:.4f}, p-value: {p_value:.4f}\")"
   ]
  },
  {
   "cell_type": "markdown",
   "metadata": {},
   "source": [
    "Since the **p-value** of 0.121 is higher than our **alpha** of 0.05, we **fail to reject** the null hypothesis. We do not have any proof that the distribution of gamerounds between the control and experimental groups have any significant difference."
   ]
  },
  {
   "cell_type": "markdown",
   "metadata": {},
   "source": [
    "## 4. Decision"
   ]
  },
  {
   "cell_type": "markdown",
   "metadata": {},
   "source": [
    "1. **7-Day Retention Rates:**\n",
    "\n",
    "- The **control** group (gate_30) shows a 7-day retention rate of **~19.48%-20.23%**, while the **experiment** group (gate_40) shows a rate of **~18.67%-19.41%**.\n",
    "- The **difference** is statistically significant with a **p-value of 0.0025 (z-test)** and a **confidence interval of (-1.34%, -0.29%)**, indicating a lower retention for gate_40.\n",
    "- **Decision:** Retain the gate at level 30 to optimize long-term player engagement.\n",
    "\n",
    "2. **1-Day Retention Rates:**\n",
    "\n",
    "- The **control** group (gate_30) shows a 1-day retention rate of **~46.32%-47.26%**, while the **experiment** group (gate_40) shows a rate of **~45.8%-46.73%**.\n",
    "- The **difference** is not statistically significant with a **p-value of 0.1226 (z-test)**, suggesting that short-term engagement is unaffected by gate placement.\n",
    "- **Decision:** Focus optimization efforts on improving long-term engagement rather than short-term retention, as there does not seem to be any difference between the 2 groups.\n",
    "\n",
    "3. **Gameplay Intensity (sum_gamerounds):**\n",
    "\n",
    "- The Mann-Whitney U test yields a **p-value of 0.121**, indicating no significant difference in gameplay intensity between the groups.\n",
    "- **Decision:** Gate placement does not significantly influence overall gameplay distribution. No changes are needed here.\n",
    "\n",
    "4. **Sample Ratio Mismatch:**\n",
    "\n",
    "- A significant **p-value of 0.0228 (Chi-Square test)** indicates a mismatch in group sizes.\n",
    "- Adjusting for this mismatch through resampling produced similar statistical results, confirming the robustness of findings.\n",
    "- **Decision:** Proceed with current insights (recommended to improve data collection methods for further testing to avoid SRM)."
   ]
  },
  {
   "cell_type": "markdown",
   "metadata": {},
   "source": [
    "### Insights for the game development team\n",
    "\n",
    "- **Improve Control Group Features:** Since the control group (Gate 30) shows better 7-day retention, study what works in this group, like game mechanics.\n",
    "\n",
    "- **Match Rewards:** The control group might offer better or more appealing rewards. Align experiment group rewards with the control group’s to boost engagement.\n",
    "\n",
    "- **Balance Progression:** Players in the control group may have a smoother progression. Ensure the game’s challenges and rewards are well-paced and not rushed.\n",
    "\n",
    "#### By applying these insights, the game development team can:\n",
    "\n",
    "- Create less intrusive promotions that keep players engaged.\n",
    "- Replicate successful features from the control group to improve retention.\n",
    "- Improve the player experience by balancing rewards, progression, and promotions.\n",
    "\n",
    "These changes will help increase long-term engagement and improve player retention."
   ]
  },
  {
   "cell_type": "markdown",
   "metadata": {},
   "source": [
    "## 5. Future improvements"
   ]
  },
  {
   "cell_type": "markdown",
   "metadata": {},
   "source": [
    "1. **Exploration of Gameplay Trends:**\n",
    "- Investigate whether other game features (e.g., rewards, difficulty spikes) impact retention and gameplay intensity.\n",
    "\n",
    "2. **Extended Testing for Other Metrics:**\n",
    "- Analyze the effects of gate placement on player satisfaction and spending behavior to derive more insights.\n",
    "\n",
    "3. **Enhance segmentation analysis:**\n",
    "- Additional demographic features, like player location, device type, or age, could further help the team tailor marketing strategies to regional or platform-specific needs."
   ]
  }
 ],
 "metadata": {
  "kernelspec": {
   "display_name": ".venv",
   "language": "python",
   "name": "python3"
  },
  "language_info": {
   "codemirror_mode": {
    "name": "ipython",
    "version": 3
   },
   "file_extension": ".py",
   "mimetype": "text/x-python",
   "name": "python",
   "nbconvert_exporter": "python",
   "pygments_lexer": "ipython3",
   "version": "3.11.9"
  }
 },
 "nbformat": 4,
 "nbformat_minor": 4
}
